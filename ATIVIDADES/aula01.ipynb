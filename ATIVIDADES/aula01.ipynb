{
 "cells": [
  {
   "cell_type": "markdown",
   "metadata": {},
   "source": [
    "### Data Science using Python"
   ]
  },
  {
   "cell_type": "code",
   "execution_count": 4,
   "metadata": {},
   "outputs": [],
   "source": [
    "#Estrutura de Dicionário\n",
    "dict_morse = {\".-\": \"A\", \"-...\": \"B\", \"-.-.\": \"C\", \"-..\": \"D\", \".\": \"E\", \"..-.\": \"F\",\"--.\": \"G\", \"....\": \"H\", \"..\": \"I\", \".---\": \"J\", \"-.-\": \"K\", \".-..\": \"L\",\"--\": \"M\", \"-.\": \"N\", \"---\": \"O\", \".--.\": \"P\", \"--.-\": \"Q\", \".-.\": \"R\",\"...\": \"S\", \"-\": \"T\", \"..-\": \"U\", \"...-\": \"V\", \".--\": \"W\", \"-..-\": \"X\",\"-.--\": \"Y\", \"--..\": \"Z\", \"-----\": 0, \".----\": 1, \"..---\": 2, \"...--\": 3,\"....-\": 4, \".....\": 5, \"-....\": 6, \"--...\": 7, \"---..\": 8, \"----.\": 9}"
   ]
  },
  {
   "cell_type": "code",
   "execution_count": 5,
   "metadata": {},
   "outputs": [
    {
     "name": "stdout",
     "output_type": "stream",
     "text": [
      "{'.-': 'A', '-...': 'B', '-.-.': 'C', '-..': 'D', '.': 'E', '..-.': 'F', '--.': 'G', '....': 'H', '..': 'I', '.---': 'J', '-.-': 'K', '.-..': 'L', '--': 'M', '-.': 'N', '---': 'O', '.--.': 'P', '--.-': 'Q', '.-.': 'R', '...': 'S', '-': 'T', '..-': 'U', '...-': 'V', '.--': 'W', '-..-': 'X', '-.--': 'Y', '--..': 'Z', '-----': 0, '.----': 1, '..---': 2, '...--': 3, '....-': 4, '.....': 5, '-....': 6, '--...': 7, '---..': 8, '----.': 9}\n"
     ]
    }
   ],
   "source": [
    "#visualizando Dicionário\n",
    "print(dict_morse)"
   ]
  },
  {
   "cell_type": "code",
   "execution_count": 6,
   "metadata": {},
   "outputs": [
    {
     "name": "stdout",
     "output_type": "stream",
     "text": [
      "dict_items([('.-', 'A'), ('-...', 'B'), ('-.-.', 'C'), ('-..', 'D'), ('.', 'E'), ('..-.', 'F'), ('--.', 'G'), ('....', 'H'), ('..', 'I'), ('.---', 'J'), ('-.-', 'K'), ('.-..', 'L'), ('--', 'M'), ('-.', 'N'), ('---', 'O'), ('.--.', 'P'), ('--.-', 'Q'), ('.-.', 'R'), ('...', 'S'), ('-', 'T'), ('..-', 'U'), ('...-', 'V'), ('.--', 'W'), ('-..-', 'X'), ('-.--', 'Y'), ('--..', 'Z'), ('-----', 0), ('.----', 1), ('..---', 2), ('...--', 3), ('....-', 4), ('.....', 5), ('-....', 6), ('--...', 7), ('---..', 8), ('----.', 9)])\n",
      "dict_keys(['.-', '-...', '-.-.', '-..', '.', '..-.', '--.', '....', '..', '.---', '-.-', '.-..', '--', '-.', '---', '.--.', '--.-', '.-.', '...', '-', '..-', '...-', '.--', '-..-', '-.--', '--..', '-----', '.----', '..---', '...--', '....-', '.....', '-....', '--...', '---..', '----.'])\n",
      "dict_values(['A', 'B', 'C', 'D', 'E', 'F', 'G', 'H', 'I', 'J', 'K', 'L', 'M', 'N', 'O', 'P', 'Q', 'R', 'S', 'T', 'U', 'V', 'W', 'X', 'Y', 'Z', 0, 1, 2, 3, 4, 5, 6, 7, 8, 9])\n"
     ]
    }
   ],
   "source": [
    "#Com Dcionários podemos visualizar ITEMS, CHAVES E VALORES\n",
    "print(dict_morse.items())\n",
    "print(dict_morse.keys())\n",
    "print(dict_morse.values())"
   ]
  },
  {
   "cell_type": "code",
   "execution_count": 7,
   "metadata": {},
   "outputs": [
    {
     "data": {
      "text/plain": [
       "dict_values"
      ]
     },
     "execution_count": 7,
     "metadata": {},
     "output_type": "execute_result"
    }
   ],
   "source": [
    "#Conferindo o tipo\n",
    "type(dict_morse.values())"
   ]
  },
  {
   "cell_type": "code",
   "execution_count": 8,
   "metadata": {},
   "outputs": [
    {
     "data": {
      "text/plain": [
       "dict"
      ]
     },
     "execution_count": 8,
     "metadata": {},
     "output_type": "execute_result"
    }
   ],
   "source": [
    "type(dict_morse)"
   ]
  },
  {
   "cell_type": "code",
   "execution_count": 9,
   "metadata": {},
   "outputs": [
    {
     "name": "stdout",
     "output_type": "stream",
     "text": [
      "36\n",
      "36\n"
     ]
    }
   ],
   "source": [
    "#Para conferir tamanhos utilizamos a função LEN\n",
    "print(len(dict_morse))\n",
    "print(len(dict_morse.values()))"
   ]
  },
  {
   "cell_type": "markdown",
   "metadata": {},
   "source": [
    "### Acessando e Manipulando dados"
   ]
  },
  {
   "cell_type": "code",
   "execution_count": 10,
   "metadata": {},
   "outputs": [
    {
     "data": {
      "text/plain": [
       "'A'"
      ]
     },
     "execution_count": 10,
     "metadata": {},
     "output_type": "execute_result"
    }
   ],
   "source": [
    "#Podemos acessar valores através de chaves\n",
    "dict_morse['.-']"
   ]
  },
  {
   "cell_type": "code",
   "execution_count": 11,
   "metadata": {},
   "outputs": [
    {
     "data": {
      "text/plain": [
       "str"
      ]
     },
     "execution_count": 11,
     "metadata": {},
     "output_type": "execute_result"
    }
   ],
   "source": [
    "type(dict_morse['.-'])"
   ]
  },
  {
   "cell_type": "code",
   "execution_count": 13,
   "metadata": {},
   "outputs": [
    {
     "name": "stdout",
     "output_type": "stream",
     "text": [
      "2\n"
     ]
    }
   ],
   "source": [
    "type(dict_morse[\"..---\"])\n",
    "print(dict_morse[\"..---\"])"
   ]
  },
  {
   "cell_type": "code",
   "execution_count": 14,
   "metadata": {},
   "outputs": [
    {
     "data": {
      "text/plain": [
       "2"
      ]
     },
     "execution_count": 14,
     "metadata": {},
     "output_type": "execute_result"
    }
   ],
   "source": [
    "dict_morse.get(\"..---\")"
   ]
  },
  {
   "cell_type": "markdown",
   "metadata": {},
   "source": [
    "### Operações"
   ]
  },
  {
   "cell_type": "code",
   "execution_count": 16,
   "metadata": {},
   "outputs": [
    {
     "data": {
      "text/plain": [
       "dict_keys(['.-', '-...', '-.-.', '-..', '.', '..-.', '--.', '....', '..', '.---', '-.-', '.-..', '--', '-.', '---', '.--.', '--.-', '.-.', '...', '-', '..-', '...-', '.--', '-..-', '-.--', '--..', '-----', '.----', '..---', '...--', '....-', '.....', '-....', '--...', '---..', '----.'])"
      ]
     },
     "execution_count": 16,
     "metadata": {},
     "output_type": "execute_result"
    }
   ],
   "source": [
    "#Imprimindo chaves de um dicionário\n",
    "dict_morse.keys()"
   ]
  },
  {
   "cell_type": "code",
   "execution_count": 18,
   "metadata": {},
   "outputs": [
    {
     "name": "stdout",
     "output_type": "stream",
     "text": [
      "Chave: .-, valor : A\n",
      "Chave: -..., valor : B\n",
      "Chave: -.-., valor : C\n",
      "Chave: -.., valor : D\n",
      "Chave: ., valor : E\n",
      "Chave: ..-., valor : F\n",
      "Chave: --., valor : G\n",
      "Chave: ...., valor : H\n",
      "Chave: .., valor : I\n",
      "Chave: .---, valor : J\n",
      "Chave: -.-, valor : K\n",
      "Chave: .-.., valor : L\n",
      "Chave: --, valor : M\n",
      "Chave: -., valor : N\n",
      "Chave: ---, valor : O\n",
      "Chave: .--., valor : P\n",
      "Chave: --.-, valor : Q\n",
      "Chave: .-., valor : R\n",
      "Chave: ..., valor : S\n",
      "Chave: -, valor : T\n",
      "Chave: ..-, valor : U\n",
      "Chave: ...-, valor : V\n",
      "Chave: .--, valor : W\n",
      "Chave: -..-, valor : X\n",
      "Chave: -.--, valor : Y\n",
      "Chave: --.., valor : Z\n",
      "Chave: -----, valor : 0\n",
      "Chave: .----, valor : 1\n",
      "Chave: ..---, valor : 2\n",
      "Chave: ...--, valor : 3\n",
      "Chave: ....-, valor : 4\n",
      "Chave: ....., valor : 5\n",
      "Chave: -...., valor : 6\n",
      "Chave: --..., valor : 7\n",
      "Chave: ---.., valor : 8\n",
      "Chave: ----., valor : 9\n"
     ]
    }
   ],
   "source": [
    "for key in dict_morse:\n",
    "    print(f\"Chave: {key}, valor : {dict_morse[key]}\")"
   ]
  },
  {
   "cell_type": "code",
   "execution_count": 31,
   "metadata": {},
   "outputs": [],
   "source": [
    "# Adicionando\n",
    "dict_morse[\"teste\"] = 32"
   ]
  },
  {
   "cell_type": "code",
   "execution_count": 32,
   "metadata": {},
   "outputs": [
    {
     "name": "stdout",
     "output_type": "stream",
     "text": [
      "{'.-': 'a', '-...': 'B', '-.-.': 'C', '-..': 'D', '.': 'E', '..-.': 'F', '--.': 'G', '....': 'H', '..': 'I', '.---': 'J', '-.-': 'K', '.-..': 'L', '--': 'M', '-.': 'N', '---': 'O', '.--.': 'P', '--.-': 'Q', '.-.': 'R', '...': 'S', '-': 'T', '..-': 'U', '...-': 'V', '.--': 'W', '-..-': 'X', '-.--': 'Y', '--..': 'Z', '-----': 0, '.----': 1, '..---': 2, '...--': 3, '....-': 4, '.....': 5, '-....': 6, '--...': 7, '---..': 8, '----.': 9, 'teste': 32}\n"
     ]
    }
   ],
   "source": [
    "print(dict_morse)"
   ]
  },
  {
   "cell_type": "code",
   "execution_count": 33,
   "metadata": {},
   "outputs": [
    {
     "name": "stdout",
     "output_type": "stream",
     "text": [
      "{'.-': 'a', '-...': 'B', '-.-.': 'C', '-..': 'D', '.': 'E', '..-.': 'F', '--.': 'G', '....': 'H', '..': 'I', '.---': 'J', '-.-': 'K', '.-..': 'L', '--': 'M', '-.': 'N', '---': 'O', '.--.': 'P', '--.-': 'Q', '.-.': 'R', '...': 'S', '-': 'T', '..-': 'U', '...-': 'V', '.--': 'W', '-..-': 'X', '-.--': 'Y', '--..': 'Z', '-----': 0, '.----': 1, '..---': 2, '...--': 3, '....-': 4, '.....': 5, '-....': 6, '--...': 7, '---..': 8, '----.': 9}\n"
     ]
    }
   ],
   "source": [
    "# Removendo itens\n",
    "dict_morse.pop(\"teste\")\n",
    "print(dict_morse)"
   ]
  },
  {
   "cell_type": "code",
   "execution_count": 34,
   "metadata": {},
   "outputs": [],
   "source": [
    "# Alterando Valores de um dicionário\n",
    "dict_morse['.-'] = 'a'"
   ]
  },
  {
   "cell_type": "markdown",
   "metadata": {},
   "source": [
    "### Listas"
   ]
  },
  {
   "cell_type": "code",
   "execution_count": 37,
   "metadata": {},
   "outputs": [
    {
     "name": "stdout",
     "output_type": "stream",
     "text": [
      "['a', 'B', 'C', 'D', 'E', 'F', 'G', 'H', 'I', 'J', 'K', 'L', 'M', 'N', 'O', 'P', 'Q', 'R', 'S', 'T', 'U', 'V', 'W', 'X', 'Y', 'Z', 0, 1, 2, 3, 4, 5, 6, 7, 8, 9]\n"
     ]
    }
   ],
   "source": [
    "lst_values = list(dict_morse.values())\n",
    "print(lst_values)"
   ]
  },
  {
   "cell_type": "markdown",
   "metadata": {},
   "source": [
    "### Acessando e Manipulando Dados"
   ]
  },
  {
   "cell_type": "code",
   "execution_count": 41,
   "metadata": {},
   "outputs": [
    {
     "name": "stdout",
     "output_type": "stream",
     "text": [
      "a \n",
      " ['a', 'B', 'C', 'D', 'E'] \n",
      " 9 \n",
      "<class 'int'>\n"
     ]
    }
   ],
   "source": [
    "#lista[indice]\n",
    "#lista[inicio:parada]\n",
    "print(\n",
    "    f\"{lst_values[0]} \\n\",\n",
    "    f\"{lst_values[0:5]} \\n\",\n",
    "    f\"{lst_values[-1]} \\n\"\n",
    "    f\"{type(lst_values[-1])}\"\n",
    ")"
   ]
  },
  {
   "cell_type": "code",
   "execution_count": 42,
   "metadata": {},
   "outputs": [
    {
     "data": {
      "text/plain": [
       "['a', 'C', 'E', 'G', 'I']"
      ]
     },
     "execution_count": 42,
     "metadata": {},
     "output_type": "execute_result"
    }
   ],
   "source": [
    "# lista [inicio:parada:passo]\n",
    "lst_values[0:10:2]"
   ]
  },
  {
   "cell_type": "markdown",
   "metadata": {},
   "source": [
    "### Operações"
   ]
  },
  {
   "cell_type": "code",
   "execution_count": 43,
   "metadata": {},
   "outputs": [
    {
     "data": {
      "text/plain": [
       "['a', 'B', 'C', 'D', 'E', 7, 8, 9]"
      ]
     },
     "execution_count": 43,
     "metadata": {},
     "output_type": "execute_result"
    }
   ],
   "source": [
    "# Concatenação\n",
    "lst_values[:5] + lst_values[-3:]"
   ]
  },
  {
   "cell_type": "code",
   "execution_count": 45,
   "metadata": {},
   "outputs": [
    {
     "data": {
      "text/plain": [
       "'A'"
      ]
     },
     "execution_count": 45,
     "metadata": {},
     "output_type": "execute_result"
    }
   ],
   "source": [
    "#alterando elementos\n",
    "lst_values[0] = \"G\"\n",
    "lst_values[0]\n",
    "lst_values[0] = \"A\"\n",
    "lst_values[0]"
   ]
  },
  {
   "cell_type": "code",
   "execution_count": 50,
   "metadata": {},
   "outputs": [
    {
     "name": "stdout",
     "output_type": "stream",
     "text": [
      "['A', 'B', 'C', 'D', 'E', 'F', 'G', 'H', 'I', 'J', 'K', 'L', 'M', 'N', 'O', 'P', 'Q', 'R', 'S', 'T', 'U', 'V', 'W', 'X', 'Y', 'Z', 0, 1, 2, 3, 4, 5, 6, 7, 8, 9, 'olá', 'olá', 12, 12, 12]\n"
     ]
    }
   ],
   "source": [
    "# Adcionando elementos a lista\n",
    "lst_values.append(12)\n",
    "print(lst_values)"
   ]
  },
  {
   "cell_type": "code",
   "execution_count": 54,
   "metadata": {},
   "outputs": [
    {
     "name": "stdout",
     "output_type": "stream",
     "text": [
      "['A', 'B', 'C', 'D', 'E', 'F', 'G', 'H', 'I', 'J', 'K', 'L', 'M', 'N', 'O', 'P', 'Q', 'R', 'S', 'T', 'U', 'V', 'W', 'X', 'Y', 'Z', 0, 1, 2, 3, 4, 5, 6, 7, 8, 9, 'olá']\n",
      "['A', 'B', 'C', 'D', 'E', 'F', 'G', 'H', 'I', 'J', 'K', 'L', 'M', 'N', 'O', 'P', 'Q', 'R', 'S', 'T', 'U', 'V', 'W', 'X', 'Y', 'Z', 0, 1, 2, 3, 4, 5, 6, 7, 8, 9]\n"
     ]
    }
   ],
   "source": [
    "#Encontrando a posição de um elemento e removendo\n",
    "lst_values.pop(37)\n",
    "print(lst_values)\n",
    "lst_values.remove(\"olá\")\n",
    "print(lst_values)"
   ]
  },
  {
   "cell_type": "code",
   "execution_count": 55,
   "metadata": {},
   "outputs": [
    {
     "data": {
      "text/plain": [
       "[]"
      ]
     },
     "execution_count": 55,
     "metadata": {},
     "output_type": "execute_result"
    }
   ],
   "source": [
    "# Outra forma de remover elementos da lista\n",
    "lst = ['A', 'B', 'C', 'D', 'E', 7, 8, 9]\n",
    "lst.clear()\n",
    "lst"
   ]
  },
  {
   "cell_type": "code",
   "execution_count": 56,
   "metadata": {},
   "outputs": [
    {
     "data": {
      "text/plain": [
       "[['A', 'B', 'C', 'D', 'E'], [5, 6, 7, 8, 9]]"
      ]
     },
     "execution_count": 56,
     "metadata": {},
     "output_type": "execute_result"
    }
   ],
   "source": [
    "# Multidimensionalidade\n",
    "mult_lst = [lst_values[:5], lst_values[-5:]]\n",
    "mult_lst"
   ]
  },
  {
   "cell_type": "code",
   "execution_count": 57,
   "metadata": {},
   "outputs": [
    {
     "data": {
      "text/plain": [
       "['A', 'B', 'C', 'D', 'E']"
      ]
     },
     "execution_count": 57,
     "metadata": {},
     "output_type": "execute_result"
    }
   ],
   "source": [
    "mult_lst[0]"
   ]
  },
  {
   "cell_type": "markdown",
   "metadata": {},
   "source": [
    "### Funções Importantes COUNT, SUM, SORT"
   ]
  },
  {
   "cell_type": "code",
   "execution_count": 59,
   "metadata": {},
   "outputs": [
    {
     "name": "stdout",
     "output_type": "stream",
     "text": [
      "2\n",
      "3\n",
      "1\n"
     ]
    }
   ],
   "source": [
    "# count\n",
    "lst = ['A', 'B', 'C', 'D', 'E', 7, 8, 9, 'A','A', 7]\n",
    "print(lst.count(7))\n",
    "print(lst.count('A'))\n",
    "print(lst.count('C'))"
   ]
  },
  {
   "cell_type": "code",
   "execution_count": 60,
   "metadata": {},
   "outputs": [
    {
     "data": {
      "text/plain": [
       "6"
      ]
     },
     "execution_count": 60,
     "metadata": {},
     "output_type": "execute_result"
    }
   ],
   "source": [
    "# Sum\n",
    "sum([1,2,3])"
   ]
  },
  {
   "cell_type": "code",
   "execution_count": 61,
   "metadata": {},
   "outputs": [
    {
     "data": {
      "text/plain": [
       "[1, 2, 3, 5, 9, 12]"
      ]
     },
     "execution_count": 61,
     "metadata": {},
     "output_type": "execute_result"
    }
   ],
   "source": [
    "# sort\n",
    "sorted([1,9,2,5,3,12])"
   ]
  },
  {
   "cell_type": "code",
   "execution_count": 62,
   "metadata": {},
   "outputs": [
    {
     "data": {
      "text/plain": [
       "'C'"
      ]
     },
     "execution_count": 62,
     "metadata": {},
     "output_type": "execute_result"
    }
   ],
   "source": [
    "txt = \"Carlos\"\n",
    "txt[0]"
   ]
  },
  {
   "cell_type": "code",
   "execution_count": 63,
   "metadata": {},
   "outputs": [
    {
     "ename": "TypeError",
     "evalue": "'str' object does not support item assignment",
     "output_type": "error",
     "traceback": [
      "\u001b[1;31m---------------------------------------------------------------------------\u001b[0m",
      "\u001b[1;31mTypeError\u001b[0m                                 Traceback (most recent call last)",
      "Cell \u001b[1;32mIn[63], line 1\u001b[0m\n\u001b[1;32m----> 1\u001b[0m \u001b[43mtxt\u001b[49m\u001b[43m[\u001b[49m\u001b[38;5;241;43m0\u001b[39;49m\u001b[43m]\u001b[49m \u001b[38;5;241m=\u001b[39m \u001b[38;5;124m\"\u001b[39m\u001b[38;5;124mM\u001b[39m\u001b[38;5;124m\"\u001b[39m\n\u001b[0;32m      2\u001b[0m txt\n",
      "\u001b[1;31mTypeError\u001b[0m: 'str' object does not support item assignment"
     ]
    }
   ],
   "source": [
    "txt[0] = \"M\"\n",
    "txt"
   ]
  },
  {
   "cell_type": "markdown",
   "metadata": {},
   "source": [
    "### ARRAYS"
   ]
  },
  {
   "cell_type": "code",
   "execution_count": 64,
   "metadata": {},
   "outputs": [],
   "source": [
    "import array\n",
    "import numpy as np"
   ]
  },
  {
   "cell_type": "code",
   "execution_count": 65,
   "metadata": {},
   "outputs": [],
   "source": [
    "arr = array.array('i', [1,2,3])"
   ]
  },
  {
   "cell_type": "code",
   "execution_count": 68,
   "metadata": {},
   "outputs": [
    {
     "data": {
      "text/plain": [
       "1"
      ]
     },
     "execution_count": 68,
     "metadata": {},
     "output_type": "execute_result"
    }
   ],
   "source": [
    "arr[0]"
   ]
  },
  {
   "cell_type": "code",
   "execution_count": 69,
   "metadata": {},
   "outputs": [
    {
     "name": "stdout",
     "output_type": "stream",
     "text": [
      "[5, 10, 15, 5, 10, 15]\n"
     ]
    }
   ],
   "source": [
    "print([5,10,15]*2)"
   ]
  },
  {
   "cell_type": "markdown",
   "metadata": {},
   "source": [
    "#### NUMPY - OPERAÇÕES MATEMÁTICAS"
   ]
  },
  {
   "cell_type": "code",
   "execution_count": 70,
   "metadata": {},
   "outputs": [
    {
     "name": "stdout",
     "output_type": "stream",
     "text": [
      "[ 7 15 25]\n"
     ]
    }
   ],
   "source": [
    "# SOMA DE ARRAYS\n",
    "arr1 = np.array([5,10,15])\n",
    "arr2 = np.array([2,5,10])\n",
    "print(arr1 + arr2)"
   ]
  },
  {
   "cell_type": "code",
   "execution_count": 72,
   "metadata": {},
   "outputs": [
    {
     "name": "stdout",
     "output_type": "stream",
     "text": [
      "[3 5 5]\n",
      "[ 10  50 150]\n"
     ]
    }
   ],
   "source": [
    "print(arr1 - arr2)\n",
    "print(arr1 * arr2)"
   ]
  },
  {
   "cell_type": "markdown",
   "metadata": {},
   "source": [
    "#### List Comprehension"
   ]
  },
  {
   "cell_type": "code",
   "execution_count": 73,
   "metadata": {},
   "outputs": [],
   "source": [
    "values = [-5, 7, 1, 0, 10, 100, 33, 2]"
   ]
  },
  {
   "cell_type": "code",
   "execution_count": 75,
   "metadata": {},
   "outputs": [
    {
     "name": "stdout",
     "output_type": "stream",
     "text": [
      "[25, 49, 1, 0, 100, 10000, 1089, 4]\n"
     ]
    }
   ],
   "source": [
    "quadrados = []\n",
    "for v in values:\n",
    "    quadrados.append(v**2)\n",
    "print(quadrados)"
   ]
  },
  {
   "cell_type": "code",
   "execution_count": 76,
   "metadata": {},
   "outputs": [
    {
     "data": {
      "text/plain": [
       "[25, 49, 1, 0, 100, 10000, 1089, 4]"
      ]
     },
     "execution_count": 76,
     "metadata": {},
     "output_type": "execute_result"
    }
   ],
   "source": [
    "# Com list comprehesion\n",
    "[v**2 for v in values]"
   ]
  },
  {
   "cell_type": "code",
   "execution_count": 77,
   "metadata": {},
   "outputs": [],
   "source": [
    "import time"
   ]
  },
  {
   "cell_type": "code",
   "execution_count": 80,
   "metadata": {},
   "outputs": [
    {
     "name": "stdout",
     "output_type": "stream",
     "text": [
      "0.14519906044006348\n",
      "0.015041589736938477\n"
     ]
    }
   ],
   "source": [
    "# Comparando a performance listas e np arrays\n",
    "\n",
    "a = time.time()\n",
    "L = range(1000000)\n",
    "[i**2 for i in L]\n",
    "print(time.time() - a)\n",
    "\n",
    "a = time.time()\n",
    "b = np.arange(1000000)\n",
    "b**2\n",
    "print(time.time() - a)"
   ]
  },
  {
   "cell_type": "markdown",
   "metadata": {},
   "source": [
    "#### Tuplas"
   ]
  },
  {
   "cell_type": "code",
   "execution_count": 81,
   "metadata": {},
   "outputs": [
    {
     "name": "stdout",
     "output_type": "stream",
     "text": [
      "('A', 'B', 'C', 'D', 'E', 'F', 'G', 'H', 'I', 'J', 'K', 'L', 'M', 'N', 'O', 'P', 'Q', 'R', 'S', 'T', 'U', 'V', 'W', 'X', 'Y', 'Z', 0, 1, 2, 3, 4, 5, 6, 7, 8, 9)\n"
     ]
    }
   ],
   "source": [
    "tuple_values = tuple(lst_values)\n",
    "print(tuple_values)"
   ]
  },
  {
   "cell_type": "code",
   "execution_count": 82,
   "metadata": {},
   "outputs": [
    {
     "data": {
      "text/plain": [
       "tuple"
      ]
     },
     "execution_count": 82,
     "metadata": {},
     "output_type": "execute_result"
    }
   ],
   "source": [
    "type(tuple_values) "
   ]
  },
  {
   "cell_type": "code",
   "execution_count": 83,
   "metadata": {},
   "outputs": [
    {
     "name": "stdout",
     "output_type": "stream",
     "text": [
      "('A', 'B')\n",
      "9\n"
     ]
    }
   ],
   "source": [
    "# Acessando dados\n",
    "print(tuple_values[0:2])\n",
    "print(tuple_values[-1]) "
   ]
  },
  {
   "cell_type": "code",
   "execution_count": 84,
   "metadata": {},
   "outputs": [
    {
     "name": "stdout",
     "output_type": "stream",
     "text": [
      "(1, 2, 3, 4)\n"
     ]
    }
   ],
   "source": [
    "# Operações\n",
    "print((1,2) + (3,4))"
   ]
  },
  {
   "cell_type": "code",
   "execution_count": 85,
   "metadata": {},
   "outputs": [
    {
     "name": "stdout",
     "output_type": "stream",
     "text": [
      "Tempo da lista: 0.0896078999794554\n",
      "Tempo da tupla: 0.019953100010752678\n"
     ]
    }
   ],
   "source": [
    "import timeit\n",
    "\n",
    "lista_teste = timeit.timeit(stmt='[1,2,3,4,5]', number=1_000_000)\n",
    "tupla_teste = timeit.timeit(stmt='(1,2,3,4,5)', number=1_000_000)\n",
    "print(f'Tempo da lista: {lista_teste}') \n",
    "print(f'Tempo da tupla: {tupla_teste}')"
   ]
  },
  {
   "cell_type": "markdown",
   "metadata": {},
   "source": [
    "#### Conjuntos"
   ]
  },
  {
   "cell_type": "code",
   "execution_count": 86,
   "metadata": {},
   "outputs": [
    {
     "data": {
      "text/plain": [
       "{'a', 'c', 'h', 'o', 'r'}"
      ]
     },
     "execution_count": 86,
     "metadata": {},
     "output_type": "execute_result"
    }
   ],
   "source": [
    "cj = set('cachorro')\n",
    "cj"
   ]
  },
  {
   "cell_type": "code",
   "execution_count": 87,
   "metadata": {},
   "outputs": [
    {
     "data": {
      "text/plain": [
       "set"
      ]
     },
     "execution_count": 87,
     "metadata": {},
     "output_type": "execute_result"
    }
   ],
   "source": [
    "type(cj)"
   ]
  },
  {
   "cell_type": "code",
   "execution_count": 88,
   "metadata": {},
   "outputs": [
    {
     "data": {
      "text/plain": [
       "{'a', 'c', 'h', 'o', 'r'}"
      ]
     },
     "execution_count": 88,
     "metadata": {},
     "output_type": "execute_result"
    }
   ],
   "source": [
    "# criando set a partir de uma lista\n",
    "set(list('cachorro'))"
   ]
  },
  {
   "cell_type": "markdown",
   "metadata": {},
   "source": [
    "#### Acessando e manipulando dados"
   ]
  },
  {
   "cell_type": "code",
   "execution_count": 89,
   "metadata": {},
   "outputs": [
    {
     "data": {
      "text/plain": [
       "5"
      ]
     },
     "execution_count": 89,
     "metadata": {},
     "output_type": "execute_result"
    }
   ],
   "source": [
    "len(\"cachorro\")\n",
    "len(cj)"
   ]
  },
  {
   "cell_type": "code",
   "execution_count": 90,
   "metadata": {},
   "outputs": [
    {
     "name": "stdout",
     "output_type": "stream",
     "text": [
      "{'o', 'h', 'r', 'c', '2', 'a'}\n",
      "{'o', 'h', 'r', 'c', 'a'}\n"
     ]
    }
   ],
   "source": [
    "cj.add(\"2\")\n",
    "print(cj)\n",
    "cj.discard(\"2\")\n",
    "print(cj)"
   ]
  },
  {
   "cell_type": "markdown",
   "metadata": {},
   "source": [
    "#### Operações"
   ]
  },
  {
   "cell_type": "code",
   "execution_count": 93,
   "metadata": {},
   "outputs": [],
   "source": [
    "alfabeto = {'A', 'B', 'C', 'D', 'E', 'F', 'G', 'H', 'I', 'J',\n",
    "    'K', 'L', 'M', 'N', 'O', 'P', 'Q', 'R', 'S', 'T',\n",
    "    'U','V', 'W', 'X', 'Y', 'Z'}\n",
    "set_values = set(dict_morse.values())"
   ]
  },
  {
   "cell_type": "code",
   "execution_count": 94,
   "metadata": {},
   "outputs": [
    {
     "name": "stdout",
     "output_type": "stream",
     "text": [
      "{'E', 'B', 'C', 'X', 'J', 'H', 'S', 'T', 'L', 'N', 'R', 'D', 'Z', 'M', 'K', 'I', 'G', 'Q', 'W', 'U', 'O', 'Y', 'P', 'V', 'F'}\n",
      "{'E', 'B', 'C', 'X', 'J', 'H', 'S', 'T', 'L', 'N', 'R', 'D', 'Z', 'M', 'K', 'I', 'G', 'Q', 'W', 'U', 'O', 'Y', 'P', 'V', 'F'}\n"
     ]
    }
   ],
   "source": [
    "# Interseção\n",
    "print(set_values & alfabeto)\n",
    "print(set_values.intersection(alfabeto))"
   ]
  },
  {
   "cell_type": "code",
   "execution_count": 95,
   "metadata": {},
   "outputs": [
    {
     "name": "stdout",
     "output_type": "stream",
     "text": [
      "{0, 1, 2, 3, 4, 5, 6, 7, 8, 9, 'a'}\n",
      "{0, 1, 2, 3, 4, 5, 6, 7, 8, 9, 'a'}\n",
      "{'A'}\n",
      "{'A'}\n"
     ]
    }
   ],
   "source": [
    "#Diferença\n",
    "print(set_values  - alfabeto) \n",
    "print(set_values.difference(alfabeto)) \n",
    "print(alfabeto - set_values) \n",
    "print(alfabeto.difference(set_values))"
   ]
  },
  {
   "cell_type": "code",
   "execution_count": 96,
   "metadata": {},
   "outputs": [
    {
     "name": "stdout",
     "output_type": "stream",
     "text": [
      "{0, 1, 2, 3, 4, 5, 6, 7, 8, 9, 'a', 'A'}\n",
      "{0, 1, 2, 3, 4, 5, 6, 7, 8, 9, 'A', 'a'}\n",
      "{0, 1, 2, 3, 4, 5, 6, 7, 8, 9, 'a', 'A'}\n",
      "{0, 1, 2, 3, 4, 5, 6, 7, 8, 9, 'A', 'a'}\n"
     ]
    }
   ],
   "source": [
    "# Diferença simétrica\n",
    "print(set_values.symmetric_difference(alfabeto))\n",
    "print(alfabeto.symmetric_difference(set_values))\n",
    "print(set_values ^ alfabeto)\n",
    "print(alfabeto ^ set_values)"
   ]
  },
  {
   "cell_type": "code",
   "execution_count": 97,
   "metadata": {},
   "outputs": [
    {
     "name": "stdout",
     "output_type": "stream",
     "text": [
      "{'E', 'B', 'Z', 'xx', 'M', 'K', 'C', 'X', 'I', 'G', 'Q', 'W', 'F', 'J', 'H', 'U', 'O', 'A', 'Y', 'S', 'P', 'T', 'L', 'N', 'R', 'V', 'cc', 'D'}\n",
      "{'E', 'B', 'Z', 'xx', 'M', 'K', 'C', 'X', 'I', 'G', 'Q', 'W', 'F', 'J', 'H', 'U', 'O', 'A', 'Y', 'S', 'P', 'T', 'L', 'N', 'R', 'V', 'cc', 'D'}\n"
     ]
    }
   ],
   "source": [
    "# união\n",
    "print({\"cc\", \"xx\"}| alfabeto) \n",
    "print({\"cc\", \"xx\"}.union(alfabeto))"
   ]
  },
  {
   "cell_type": "markdown",
   "metadata": {},
   "source": [
    "#### Resumo\n",
    "\n",
    "- Listas: Coleção ordenada e mutável. Permite membros duplicados.\n",
    "- Tuplas: Coleção ordenada e imutável. Permite membros duplicados.\n",
    "- Sets: Coleção não-ordenada e não-indexada. Não permite membros duplicados.\n",
    "- Dicionários: Coleção não-ordenada, mutável e indexável. Não permite membros duplicados."
   ]
  }
 ],
 "metadata": {
  "kernelspec": {
   "display_name": "Python 3",
   "language": "python",
   "name": "python3"
  },
  "language_info": {
   "codemirror_mode": {
    "name": "ipython",
    "version": 3
   },
   "file_extension": ".py",
   "mimetype": "text/x-python",
   "name": "python",
   "nbconvert_exporter": "python",
   "pygments_lexer": "ipython3",
   "version": "3.12.3"
  }
 },
 "nbformat": 4,
 "nbformat_minor": 2
}
