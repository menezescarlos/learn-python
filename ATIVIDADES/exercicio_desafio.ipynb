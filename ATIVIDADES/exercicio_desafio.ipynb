{
 "cells": [
  {
   "cell_type": "code",
   "execution_count": 6,
   "metadata": {},
   "outputs": [
    {
     "name": "stdout",
     "output_type": "stream",
     "text": [
      "Original Text 1: C A R L O S  M E N E Z E S  D E O L I V E E I R A\n",
      "Reconstructed Text 1: CARLOS MENEZES DEOLIVEEIRA\n",
      "\n",
      "Original Text 2: P A T R I A  A M A D A  B R A S I L\n",
      "Reconstructed Text 2: PATRIA AMADA BRASIL\n",
      "\n",
      "Original Text 3: A P R E N D E N D O  P Y T H O N\n",
      "Reconstructed Text 3: APRENDENDO PYTHON\n",
      "\n"
     ]
    }
   ],
   "source": [
    "# Criando uma função para ler os dados\n",
    "# Esta linha define uma função chamada reconstruindo_texto que \n",
    "# recebe um parâmetro chamado textos\n",
    "# Depois a função substitui todos os espaços duplos (\" \") \n",
    "# por \" _ \", para marcar onde havia espaços duplos. \n",
    "# Em seguida, divide o texto resultante em uma lista de \n",
    "# palavras usando o espaço simples como separador.Nesta \n",
    "# linha, a função cria uma nova string. Ela percorre cada \n",
    "# palavra na lista words e, se a palavra for \"_\", substitui \n",
    "# por um espaço simples (\" \"); caso contrário, mantém a \n",
    "# palavra original. Depois, todas essas palavras (ou espaços)\n",
    "#  são juntadas em uma única string. Finalmente, a função \n",
    "# retorna a nova string reconstruída.\n",
    "def reconstruindo_texto(textos):\n",
    "    palavra = textos.replace(\"  \", \" _ \").split(\" \")\n",
    "    reconstruindo_texto = \"\".join([palavras if palavras != \"_\" else \" \" for palavras in palavra])\n",
    "    return reconstruindo_texto\n",
    "\n",
    "# Criação de três senários\n",
    "texto1 = \"C A R L O S  M E N E Z E S  D E O L I V E E I R A\"\n",
    "texto2 = \"P A T R I A  A M A D A  B R A S I L\"\n",
    "texto3 = \"A P R E N D E N D O  P Y T H O N\"\n",
    "\n",
    "# lendo e reconstruindo os textos\n",
    "print(\"Original Text 1:\", texto1)\n",
    "print(\"Reconstructed Text 1:\", reconstruindo_texto(texto1))\n",
    "print()\n",
    "\n",
    "print(\"Original Text 2:\", texto2)\n",
    "print(\"Reconstructed Text 2:\", reconstruindo_texto(texto2))\n",
    "print()\n",
    "\n",
    "print(\"Original Text 3:\", texto3)\n",
    "print(\"Reconstructed Text 3:\", reconstruindo_texto(texto3))\n",
    "print()"
   ]
  },
  {
   "cell_type": "code",
   "execution_count": 20,
   "metadata": {},
   "outputs": [
    {
     "name": "stdout",
     "output_type": "stream",
     "text": [
      "                  Texto Reconstruído\n",
      "0  seu texto aqui com espaços duplos\n"
     ]
    }
   ],
   "source": [
    "import pandas as pd\n",
    "\n",
    "def reconstruindo_texto(textos):\n",
    "    palavra = textos.replace(\"  \", \" _ \").split(\" \")\n",
    "    reconstruindo_texto = \"\".join([palavras if palavras != \"_\" else \" \" for palavras in palavra])\n",
    "    return reconstruindo_texto\n",
    "\n",
    "texto1 = \"s e u  t e x t o  a q u i  c o m  e s p a ç o s  d u p l o s\"\n",
    "reconstructed_text1 = reconstruindo_texto(texto1)\n",
    "\n",
    "# Crie um DataFrame com a string reconstruída\n",
    "reconstruindo_texto1 = pd.DataFrame({'Texto Reconstruído': [reconstructed_text1]})\n",
    "\n",
    "# Exiba o DataFrame\n",
    "print(reconstruindo_texto1)"
   ]
  },
  {
   "cell_type": "code",
   "execution_count": 26,
   "metadata": {},
   "outputs": [
    {
     "name": "stdout",
     "output_type": "stream",
     "text": [
      "         Textos Reconstruídos\n",
      "0  CARLOS MENEZES DEOLIVEEIRA\n",
      "1         PATRIA AMADA BRASIL\n",
      "2         PATRIA AMADA BRASIL\n"
     ]
    }
   ],
   "source": [
    "import pandas as pd\n",
    "\n",
    "def reconstruindo_texto(textos):\n",
    "    palavra = textos.replace(\"  \", \" _ \").split(\" \")\n",
    "    reconstruindo_texto = \"\".join([palavras if palavras != \"_\" else \" \" for palavras in palavra])\n",
    "    return reconstruindo_texto\n",
    "\n",
    "# Criação de três senários\n",
    "texto0 = \"C A R L O S  M E N E Z E S  D E O L I V E E I R A\"\n",
    "reconstructed_text0 = reconstruindo_texto(texto0)\n",
    "texto1 = \"P A T R I A  A M A D A  B R A S I L\"\n",
    "reconstructed_text1 = reconstruindo_texto(texto1)\n",
    "texto2 = \"A P R E N D E N D O  P Y T H O N\"\n",
    "reconstructed_text2 = reconstruindo_texto(texto2)\n",
    "\n",
    "# Crie um DataFrame com a string reconstruída\n",
    "reconstruindo_texto = pd.DataFrame({'Textos Reconstruídos': [reconstructed_text0] + [reconstructed_text1] + [reconstructed_text1]})\n",
    "\n",
    "# Exiba o DataFrame\n",
    "print(reconstruindo_texto)\n"
   ]
  }
 ],
 "metadata": {
  "kernelspec": {
   "display_name": "Python 3",
   "language": "python",
   "name": "python3"
  },
  "language_info": {
   "codemirror_mode": {
    "name": "ipython",
    "version": 3
   },
   "file_extension": ".py",
   "mimetype": "text/x-python",
   "name": "python",
   "nbconvert_exporter": "python",
   "pygments_lexer": "ipython3",
   "version": "3.12.4"
  }
 },
 "nbformat": 4,
 "nbformat_minor": 2
}
