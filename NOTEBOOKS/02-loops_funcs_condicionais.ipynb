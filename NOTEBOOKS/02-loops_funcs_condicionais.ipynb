{
 "cells": [
  {
   "cell_type": "markdown",
   "metadata": {},
   "source": [
    "### Funcionalidades Básicas"
   ]
  },
  {
   "cell_type": "code",
   "execution_count": 1,
   "metadata": {},
   "outputs": [],
   "source": [
    "dict_morse = {\".-\": \"A\", \"-...\": \"B\", \"-.-.\": \"C\", \"-..\": \"D\", \".\": \"E\", \"..-.\": \"F\",\"--.\": \"G\", \"....\": \"H\", \"..\": \"I\", \".---\": \"J\", \"-.-\": \"K\", \".-..\": \"L\",\"--\": \"M\", \"-.\": \"N\", \"---\": \"O\", \".--.\": \"P\", \"--.-\": \"Q\", \".-.\": \"R\",\"...\": \"S\", \"-\": \"T\", \"..-\": \"U\", \"...-\": \"V\", \".--\": \"W\", \"-..-\": \"X\",\"-.--\": \"Y\", \"--..\": \"Z\", \"-----\": 0, \".----\": 1, \"..---\": 2, \"...--\": 3,\"....-\": 4, \".....\": 5, \"-....\": 6, \"--...\": 7, \"---..\": 8, \"----.\": 9}"
   ]
  },
  {
   "cell_type": "code",
   "execution_count": 2,
   "metadata": {},
   "outputs": [],
   "source": [
    "msg = '-.-. .- .-. --- .-.. .. -. .-'"
   ]
  },
  {
   "cell_type": "markdown",
   "metadata": {},
   "source": [
    "### Decifrando uma palavra"
   ]
  },
  {
   "cell_type": "code",
   "execution_count": 4,
   "metadata": {},
   "outputs": [
    {
     "name": "stdout",
     "output_type": "stream",
     "text": [
      "-.-.\n",
      " \n"
     ]
    }
   ],
   "source": [
    "# Subset de uma string\n",
    "print(msg[0:4])\n",
    "print(msg[4:5])"
   ]
  },
  {
   "cell_type": "code",
   "execution_count": 5,
   "metadata": {},
   "outputs": [
    {
     "data": {
      "text/plain": [
       "'C'"
      ]
     },
     "execution_count": 5,
     "metadata": {},
     "output_type": "execute_result"
    }
   ],
   "source": [
    "# Decifrando uma letra\n",
    "dict_morse[msg[0:4]]"
   ]
  },
  {
   "cell_type": "code",
   "execution_count": 6,
   "metadata": {},
   "outputs": [
    {
     "data": {
      "text/plain": [
       "29"
      ]
     },
     "execution_count": 6,
     "metadata": {},
     "output_type": "execute_result"
    }
   ],
   "source": [
    "# Tamanho da mensagem\n",
    "len(msg) "
   ]
  },
  {
   "cell_type": "code",
   "execution_count": 7,
   "metadata": {},
   "outputs": [
    {
     "name": "stdout",
     "output_type": "stream",
     "text": [
      "8\n"
     ]
    }
   ],
   "source": [
    "# Transforma mensagem em lista de palavras\n",
    "msg_lst = ['-.-.', '.-', '.-.', '---', '.-..', '..', '-.', '.-']\n",
    "print(len(msg_lst ))"
   ]
  },
  {
   "cell_type": "code",
   "execution_count": 8,
   "metadata": {},
   "outputs": [
    {
     "name": "stdout",
     "output_type": "stream",
     "text": [
      "C A R O L I N A\n"
     ]
    }
   ],
   "source": [
    "# Decifrando a mensagem item por item\n",
    "print(\n",
    "    dict_morse[msg_lst [0]], dict_morse[msg_lst [1]], dict_morse[msg_lst [2]],\n",
    "    dict_morse[msg_lst [3]], dict_morse[msg_lst [4]], dict_morse[msg_lst [5]],\n",
    "    dict_morse[msg_lst [6]], dict_morse[msg_lst [7]],\n",
    ")"
   ]
  },
  {
   "cell_type": "markdown",
   "metadata": {},
   "source": [
    "<img src=\"../imgs/notebooks/loop.png\" style=\"max-width:300px; \"/>"
   ]
  },
  {
   "cell_type": "code",
   "execution_count": 9,
   "metadata": {},
   "outputs": [
    {
     "name": "stdout",
     "output_type": "stream",
     "text": [
      "C\n",
      "A\n",
      "R\n",
      "O\n",
      "L\n",
      "I\n",
      "N\n",
      "A\n"
     ]
    }
   ],
   "source": [
    "# Decifrando a mensagem em loop for\n",
    "for letter in msg_lst :\n",
    "    print(dict_morse[letter])"
   ]
  },
  {
   "cell_type": "markdown",
   "metadata": {},
   "source": [
    "<img src=\"../imgs/notebooks/while.png\" style=\"max-width:300px; \"/>"
   ]
  },
  {
   "cell_type": "code",
   "execution_count": 15,
   "metadata": {},
   "outputs": [
    {
     "name": "stdout",
     "output_type": "stream",
     "text": [
      "['C', 'A', 'R', 'O', 'L', 'I', 'N', 'A']\n"
     ]
    }
   ],
   "source": [
    "# Decifrando a mensagem em loop while\n",
    "msg_claro = []; cnt = 0\n",
    "while cnt < len(msg_lst):\n",
    "    msg_claro.append(dict_morse[msg_lst[cnt]])\n",
    "    cnt += 1\n",
    "print(msg_claro)"
   ]
  },
  {
   "cell_type": "code",
   "execution_count": 16,
   "metadata": {},
   "outputs": [
    {
     "data": {
      "text/plain": [
       "['-.-.', '.-', '.-.', '---', '.-..', '..', '-.', '.-']"
      ]
     },
     "execution_count": 16,
     "metadata": {},
     "output_type": "execute_result"
    }
   ],
   "source": [
    "# manipulação de string\n",
    "msg = '-.-. .- .-. --- .-.. .. -. .-'\n",
    "msg.split(\" \")"
   ]
  },
  {
   "cell_type": "markdown",
   "metadata": {},
   "source": [
    "### Criando funções"
   ]
  },
  {
   "cell_type": "markdown",
   "metadata": {},
   "source": [
    "<img src=\"../imgs/notebooks/funcao.png\" style=\"max-width:300px; \"/>"
   ]
  },
  {
   "cell_type": "code",
   "execution_count": 24,
   "metadata": {},
   "outputs": [],
   "source": [
    "# Função que decodifica uma mensagem em morse\n",
    "def decode_morse(msg, dict_morse):\n",
    "    msg_lst = msg.split(\" \")\n",
    "    msg_claro = [] \n",
    "    for letter in msg_lst :\n",
    "        msg_claro.append(dict_morse[letter])\n",
    "    return \"\".join(msg_claro)"
   ]
  },
  {
   "cell_type": "code",
   "execution_count": 25,
   "metadata": {},
   "outputs": [
    {
     "data": {
      "text/plain": [
       "'CAROLINA'"
      ]
     },
     "execution_count": 25,
     "metadata": {},
     "output_type": "execute_result"
    }
   ],
   "source": [
    "# Testar a função\n",
    "decode_morse('-.-. .- .-. --- .-.. .. -. .-', dict_morse)"
   ]
  },
  {
   "cell_type": "code",
   "execution_count": 26,
   "metadata": {},
   "outputs": [],
   "source": [
    "# Salvar em arquivo\n",
    "file_path = \"decode_morse.txt\"\n"
   ]
  },
  {
   "cell_type": "code",
   "execution_count": 33,
   "metadata": {},
   "outputs": [
    {
     "name": "stdout",
     "output_type": "stream",
     "text": [
      "Teste - 2! \n",
      "\n",
      "Teste - 2! \n",
      "\n",
      "Teste - 2! \n",
      "\n"
     ]
    }
   ],
   "source": [
    "for i in range(3):\n",
    "    with open(file_path, 'r') as file: \n",
    "        #file.read(f\"Teste - {i}! \\n\")\n",
    "        print(file.read())"
   ]
  },
  {
   "cell_type": "code",
   "execution_count": 28,
   "metadata": {},
   "outputs": [],
   "source": [
    "# salvar em arquivo\n",
    "# datetime da geração\n",
    "\n",
    "import datetime\n",
    "\n",
    "def save_clear_msg_txt(file_path, msg, dict_morse):\n",
    "    now = datetime.datetime.now()\n",
    "    msg_claro = decode_morse(msg,dict_morse)\n",
    "    with open(file_path, 'a') as file: \n",
    "        file.write(f\"{msg_claro}, {now} \\n\") "
   ]
  },
  {
   "cell_type": "code",
   "execution_count": 30,
   "metadata": {},
   "outputs": [],
   "source": [
    "# Testar a função\n",
    "save_clear_msg_txt(\"clear_msg2.txt\", msg, dict_morse)"
   ]
  },
  {
   "cell_type": "code",
   "execution_count": 35,
   "metadata": {},
   "outputs": [
    {
     "data": {
      "text/html": [
       "<div>\n",
       "<style scoped>\n",
       "    .dataframe tbody tr th:only-of-type {\n",
       "        vertical-align: middle;\n",
       "    }\n",
       "\n",
       "    .dataframe tbody tr th {\n",
       "        vertical-align: top;\n",
       "    }\n",
       "\n",
       "    .dataframe thead th {\n",
       "        text-align: right;\n",
       "    }\n",
       "</style>\n",
       "<table border=\"1\" class=\"dataframe\">\n",
       "  <thead>\n",
       "    <tr style=\"text-align: right;\">\n",
       "      <th></th>\n",
       "      <th>mensagem</th>\n",
       "      <th>datetime</th>\n",
       "    </tr>\n",
       "  </thead>\n",
       "  <tbody>\n",
       "    <tr>\n",
       "      <th>0</th>\n",
       "      <td>CAROLINA</td>\n",
       "      <td>2024-07-29 21:47:15.191695</td>\n",
       "    </tr>\n",
       "  </tbody>\n",
       "</table>\n",
       "</div>"
      ],
      "text/plain": [
       "   mensagem                   datetime\n",
       "0  CAROLINA 2024-07-29 21:47:15.191695"
      ]
     },
     "execution_count": 35,
     "metadata": {},
     "output_type": "execute_result"
    }
   ],
   "source": [
    "import pandas as pd\n",
    "now = datetime.datetime.now()\n",
    "msg_claro = decode_morse(msg,dict_morse)\n",
    "df = pd.DataFrame([[msg_claro, now]], columns=[\"mensagem\", \"datetime\"])\n",
    "df"
   ]
  },
  {
   "cell_type": "code",
   "execution_count": 51,
   "metadata": {},
   "outputs": [],
   "source": [
    "# alterar função para salvar um csv\n",
    "def save_clear_msg_csv(file_path, msg, dict_morse):\n",
    "    now = datetime.datetime.now()\n",
    "    msg_claro = decode_morse(msg,dict_morse)\n",
    "    df = pd.DataFrame([[msg_claro, now]], columns=[\"mensagem\", \"datetime\"])\n",
    "    df.to_csv(file_path, mode='a', index=False, header=False)"
   ]
  },
  {
   "cell_type": "code",
   "execution_count": 53,
   "metadata": {},
   "outputs": [],
   "source": [
    "# Testar a função\n",
    "save_clear_msg_csv(\"decode_morse.csv\", '-.-. .- .-. --- .-.. .. -. .-', dict_morse)"
   ]
  },
  {
   "cell_type": "markdown",
   "metadata": {},
   "source": [
    "<img src=\"../imgs/notebooks/condicional.png\" style=\"max-width:300px; \"/>"
   ]
  },
  {
   "cell_type": "code",
   "execution_count": 57,
   "metadata": {},
   "outputs": [],
   "source": [
    "# alterar função para salvar um csv com header\n",
    "import os\n",
    "\n",
    "def save_clear_msg_csv_hdr(file_path, msg, dict_morse):\n",
    "    now = datetime.datetime.now()\n",
    "    msg_claro = decode_morse(msg,dict_morse)\n",
    "    df = pd.DataFrame([[msg_claro, now]], columns=[\"mensagem\", \"datetime\"])\n",
    "    #if not os.path.exists(file_path):\n",
    "    #    hdr = True\n",
    "    #else:\n",
    "    #    hdr = False\n",
    "    hdr = not os.path.exists(file_path)\n",
    "    df.to_csv(file_path, mode='a', index=False, header=hdr)"
   ]
  },
  {
   "cell_type": "code",
   "execution_count": 60,
   "metadata": {},
   "outputs": [],
   "source": [
    "# Testar a função\n",
    "save_clear_msg_csv_hdr(\"decode_morse.csv\", msg, dict_morse)"
   ]
  }
 ],
 "metadata": {
  "kernelspec": {
   "display_name": "Python 3",
   "language": "python",
   "name": "python3"
  },
  "language_info": {
   "codemirror_mode": {
    "name": "ipython",
    "version": 3
   },
   "file_extension": ".py",
   "mimetype": "text/x-python",
   "name": "python",
   "nbconvert_exporter": "python",
   "pygments_lexer": "ipython3",
   "version": "3.11.4"
  }
 },
 "nbformat": 4,
 "nbformat_minor": 2
}
